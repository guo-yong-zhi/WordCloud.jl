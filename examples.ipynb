{
 "cells": [
  {
   "cell_type": "code",
   "execution_count": null,
   "id": "d4013fc6",
   "metadata": {
    "tags": []
   },
   "outputs": [],
   "source": [
    "using WordCloud\n",
    "# using Pkg; Pkg.add(\"Images\")\n",
    "# using Images"
   ]
  },
  {
   "cell_type": "markdown",
   "id": "9eb64857-f1f4-4f82-adfe-15ddd679b1ee",
   "metadata": {},
   "source": [
    "# Basic Usage"
   ]
  },
  {
   "cell_type": "code",
   "execution_count": null,
   "id": "56a13bb6-551b-43d4-8989-a5acb16b106e",
   "metadata": {},
   "outputs": [],
   "source": [
    "text = \"\"\"\n",
    "A word cloud (tag cloud or wordle) is a novelty visual representation of text data, \n",
    "typically used to depict keyword metadata (tags) on websites, or to visualize free form text. \n",
    "Tags are usually single words, and the importance of each tag is shown with font size or color. Bigger term means greater weight.\n",
    "This format is useful for quickly perceiving the most prominent terms to determine its relative prominence. \n",
    "\"\"\"\n",
    "wordcloud(text) |> generate!"
   ]
  },
  {
   "cell_type": "markdown",
   "id": "1fef5812-1328-44fd-a5dd-0abda4aeda8d",
   "metadata": {},
   "source": [
    "# Examples"
   ]
  },
  {
   "cell_type": "code",
   "execution_count": null,
   "id": "8b14f9df",
   "metadata": {},
   "outputs": [],
   "source": [
    "WordCloud.examples"
   ]
  },
  {
   "cell_type": "code",
   "execution_count": null,
   "id": "a4599dd5",
   "metadata": {},
   "outputs": [],
   "source": [
    "showexample(:alice)"
   ]
  },
  {
   "cell_type": "code",
   "execution_count": null,
   "id": "ed1af401-2b6b-4e4c-9dec-08485650bba5",
   "metadata": {},
   "outputs": [],
   "source": [
    "using Pkg; Pkg.add(\"ImageIO\")\n",
    "runexample(:alice)"
   ]
  },
  {
   "cell_type": "code",
   "execution_count": null,
   "id": "d64cc50d",
   "metadata": {},
   "outputs": [],
   "source": [
    "using Pkg; Pkg.add(\"HTTP\")\n",
    "runexample(:fromweb)"
   ]
  },
  {
   "cell_type": "code",
   "execution_count": null,
   "id": "90764757-78be-42db-b169-725e7f16064a",
   "metadata": {},
   "outputs": [],
   "source": []
  }
 ],
 "metadata": {
  "kernelspec": {
   "display_name": "Julia 1.6.0",
   "language": "julia",
   "name": "julia-1.6"
  },
  "language_info": {
   "file_extension": ".jl",
   "mimetype": "application/julia",
   "name": "julia",
   "version": "1.6.0"
  }
 },
 "nbformat": 4,
 "nbformat_minor": 5
}
